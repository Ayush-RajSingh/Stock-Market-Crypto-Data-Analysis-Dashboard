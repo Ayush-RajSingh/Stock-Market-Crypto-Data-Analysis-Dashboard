{
 "cells": [
  {
   "cell_type": "markdown",
   "id": "c5d3ac84-66f4-475b-98a6-70bf4d4acf9f",
   "metadata": {},
   "source": [
    "### python scripting"
   ]
  },
  {
   "cell_type": "code",
   "execution_count": null,
   "id": "505f9b1b-5b69-4ecc-9694-400d9928cf27",
   "metadata": {},
   "outputs": [],
   "source": [
    "import pandas as pd\n",
    "import time\n",
    "from datetime import datetime\n",
    "\n",
    "# Convert 'YYYY-MM-DD' to UNIX timestamp\n",
    "def date_to_unix(date_str):\n",
    "    return int(time.mktime(time.strptime(date_str, \"%Y-%m-%d\")))\n",
    "\n",
    "# Get the current date in 'YYYY-MM-DD' format\n",
    "current_date = datetime.now().strftime('%Y-%m-%d')\n",
    "\n",
    "# Define the start date for the data\n",
    "start_date = '2023-07-01'  # Adjust this as needed\n",
    "period1 = date_to_unix(start_date)\n",
    "period2 = date_to_unix(current_date)\n",
    "\n",
    "# Read the CSV file to get the list of stock symbols and their types\n",
    "file_path = 'C:/Users/AYUSH/OneDrive/Documents/GitHub/Stock-Market-Crypto-Data-Analysis-Dashboardtrackers.csv'  # Replace with the path to your CSV file\n",
    "symbols_df = pd.read_csv(file_path)\n",
    "trackers = symbols_df[['Symbol', 'Type']].to_dict(orient='records')\n",
    "\n",
    "# Initialize a list to hold all data\n",
    "data_frames = []\n",
    "\n",
    "for tracker in trackers:\n",
    "    symbol = tracker['Symbol']\n",
    "    type_of_asset = tracker['Type']\n",
    "    \n",
    "    url = f'https://query1.finance.yahoo.com/v7/finance/download/{symbol}?period1={period1}&period2={period2}&interval=1d&events=history&includeAdjustedClose=true'\n",
    "    \n",
    "    try:\n",
    "        # Fetch data from Yahoo Finance\n",
    "        df = pd.read_csv(url)\n",
    "        df['Symbol'] = symbol  # Add a column for the stock symbol\n",
    "        df['Type'] = type_of_asset  # Add a column for the type (Stock or Crypto)\n",
    "        data_frames.append(df)  # Append the dataframe to the list\n",
    "        print(f\"Data for {symbol} downloaded successfully.\")\n",
    "    except Exception as e:\n",
    "        print(f\"Failed to download data for {symbol}: {e}\")\n",
    "\n",
    "# Concatenate all dataframes into a single dataframe\n",
    "combined_data = pd.concat(data_frames, ignore_index=True)\n",
    "\n",
    "# Reorder columns for better readability\n",
    "combined_data = combined_data[['Symbol', 'Type', 'Date', 'Open', 'High', 'Low', 'Close', 'Adj Close', 'Volume']]\n",
    "\n",
    "# Display the combined dataframe\n",
    "print(combined_data.head())"
   ]
  }
 ],
 "metadata": {
  "kernelspec": {
   "display_name": "Python 3 (ipykernel)",
   "language": "python",
   "name": "python3"
  },
  "language_info": {
   "codemirror_mode": {
    "name": "ipython",
    "version": 3
   },
   "file_extension": ".py",
   "mimetype": "text/x-python",
   "name": "python",
   "nbconvert_exporter": "python",
   "pygments_lexer": "ipython3",
   "version": "3.12.4"
  }
 },
 "nbformat": 4,
 "nbformat_minor": 5
}
